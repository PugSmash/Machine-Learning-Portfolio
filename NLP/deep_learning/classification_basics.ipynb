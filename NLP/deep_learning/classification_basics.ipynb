{
 "cells": [
  {
   "cell_type": "code",
   "execution_count": 61,
   "metadata": {},
   "outputs": [],
   "source": [
    "import numpy as np\n",
    "import tensorflow as tf\n",
    "import matplotlib.pyplot as plt\n",
    "import seaborn as sn\n",
    "import pandas as pd\n",
    "from sklearn.model_selection import train_test_split\n",
    "from sklearn.feature_extraction.text import TfidfVectorizer\n",
    "from sklearn.metrics import roc_auc_score, f1_score, confusion_matrix\n",
    "\n",
    "from tensorflow.keras.layers import Dense, Input\n",
    "from tensorflow.keras.models import Model\n",
    "from tensorflow.keras.optimizers.legacy import Adam\n",
    "from tensorflow.keras.losses import BinaryCrossentropy"
   ]
  },
  {
   "cell_type": "code",
   "execution_count": 62,
   "metadata": {},
   "outputs": [],
   "source": [
    "np.random.seed(0)\n",
    "tf.random.set_seed(0)"
   ]
  },
  {
   "cell_type": "code",
   "execution_count": 63,
   "metadata": {},
   "outputs": [],
   "source": [
    "df = pd.read_csv(\"/Volumes/1_TB_Robo/VSCode/Data Science/NLP/datasets/Tweets.csv\")"
   ]
  },
  {
   "cell_type": "code",
   "execution_count": 64,
   "metadata": {},
   "outputs": [
    {
     "data": {
      "text/html": [
       "<div>\n",
       "<style scoped>\n",
       "    .dataframe tbody tr th:only-of-type {\n",
       "        vertical-align: middle;\n",
       "    }\n",
       "\n",
       "    .dataframe tbody tr th {\n",
       "        vertical-align: top;\n",
       "    }\n",
       "\n",
       "    .dataframe thead th {\n",
       "        text-align: right;\n",
       "    }\n",
       "</style>\n",
       "<table border=\"1\" class=\"dataframe\">\n",
       "  <thead>\n",
       "    <tr style=\"text-align: right;\">\n",
       "      <th></th>\n",
       "      <th>tweet_id</th>\n",
       "      <th>airline_sentiment</th>\n",
       "      <th>airline_sentiment_confidence</th>\n",
       "      <th>negativereason</th>\n",
       "      <th>negativereason_confidence</th>\n",
       "      <th>airline</th>\n",
       "      <th>airline_sentiment_gold</th>\n",
       "      <th>name</th>\n",
       "      <th>negativereason_gold</th>\n",
       "      <th>retweet_count</th>\n",
       "      <th>text</th>\n",
       "      <th>tweet_coord</th>\n",
       "      <th>tweet_created</th>\n",
       "      <th>tweet_location</th>\n",
       "      <th>user_timezone</th>\n",
       "    </tr>\n",
       "  </thead>\n",
       "  <tbody>\n",
       "    <tr>\n",
       "      <th>0</th>\n",
       "      <td>570306133677760513</td>\n",
       "      <td>neutral</td>\n",
       "      <td>1.0000</td>\n",
       "      <td>NaN</td>\n",
       "      <td>NaN</td>\n",
       "      <td>Virgin America</td>\n",
       "      <td>NaN</td>\n",
       "      <td>cairdin</td>\n",
       "      <td>NaN</td>\n",
       "      <td>0</td>\n",
       "      <td>@VirginAmerica What @dhepburn said.</td>\n",
       "      <td>NaN</td>\n",
       "      <td>2015-02-24 11:35:52 -0800</td>\n",
       "      <td>NaN</td>\n",
       "      <td>Eastern Time (US &amp; Canada)</td>\n",
       "    </tr>\n",
       "    <tr>\n",
       "      <th>1</th>\n",
       "      <td>570301130888122368</td>\n",
       "      <td>positive</td>\n",
       "      <td>0.3486</td>\n",
       "      <td>NaN</td>\n",
       "      <td>0.0000</td>\n",
       "      <td>Virgin America</td>\n",
       "      <td>NaN</td>\n",
       "      <td>jnardino</td>\n",
       "      <td>NaN</td>\n",
       "      <td>0</td>\n",
       "      <td>@VirginAmerica plus you've added commercials t...</td>\n",
       "      <td>NaN</td>\n",
       "      <td>2015-02-24 11:15:59 -0800</td>\n",
       "      <td>NaN</td>\n",
       "      <td>Pacific Time (US &amp; Canada)</td>\n",
       "    </tr>\n",
       "    <tr>\n",
       "      <th>2</th>\n",
       "      <td>570301083672813571</td>\n",
       "      <td>neutral</td>\n",
       "      <td>0.6837</td>\n",
       "      <td>NaN</td>\n",
       "      <td>NaN</td>\n",
       "      <td>Virgin America</td>\n",
       "      <td>NaN</td>\n",
       "      <td>yvonnalynn</td>\n",
       "      <td>NaN</td>\n",
       "      <td>0</td>\n",
       "      <td>@VirginAmerica I didn't today... Must mean I n...</td>\n",
       "      <td>NaN</td>\n",
       "      <td>2015-02-24 11:15:48 -0800</td>\n",
       "      <td>Lets Play</td>\n",
       "      <td>Central Time (US &amp; Canada)</td>\n",
       "    </tr>\n",
       "    <tr>\n",
       "      <th>3</th>\n",
       "      <td>570301031407624196</td>\n",
       "      <td>negative</td>\n",
       "      <td>1.0000</td>\n",
       "      <td>Bad Flight</td>\n",
       "      <td>0.7033</td>\n",
       "      <td>Virgin America</td>\n",
       "      <td>NaN</td>\n",
       "      <td>jnardino</td>\n",
       "      <td>NaN</td>\n",
       "      <td>0</td>\n",
       "      <td>@VirginAmerica it's really aggressive to blast...</td>\n",
       "      <td>NaN</td>\n",
       "      <td>2015-02-24 11:15:36 -0800</td>\n",
       "      <td>NaN</td>\n",
       "      <td>Pacific Time (US &amp; Canada)</td>\n",
       "    </tr>\n",
       "    <tr>\n",
       "      <th>4</th>\n",
       "      <td>570300817074462722</td>\n",
       "      <td>negative</td>\n",
       "      <td>1.0000</td>\n",
       "      <td>Can't Tell</td>\n",
       "      <td>1.0000</td>\n",
       "      <td>Virgin America</td>\n",
       "      <td>NaN</td>\n",
       "      <td>jnardino</td>\n",
       "      <td>NaN</td>\n",
       "      <td>0</td>\n",
       "      <td>@VirginAmerica and it's a really big bad thing...</td>\n",
       "      <td>NaN</td>\n",
       "      <td>2015-02-24 11:14:45 -0800</td>\n",
       "      <td>NaN</td>\n",
       "      <td>Pacific Time (US &amp; Canada)</td>\n",
       "    </tr>\n",
       "  </tbody>\n",
       "</table>\n",
       "</div>"
      ],
      "text/plain": [
       "             tweet_id airline_sentiment  airline_sentiment_confidence  \\\n",
       "0  570306133677760513           neutral                        1.0000   \n",
       "1  570301130888122368          positive                        0.3486   \n",
       "2  570301083672813571           neutral                        0.6837   \n",
       "3  570301031407624196          negative                        1.0000   \n",
       "4  570300817074462722          negative                        1.0000   \n",
       "\n",
       "  negativereason  negativereason_confidence         airline  \\\n",
       "0            NaN                        NaN  Virgin America   \n",
       "1            NaN                     0.0000  Virgin America   \n",
       "2            NaN                        NaN  Virgin America   \n",
       "3     Bad Flight                     0.7033  Virgin America   \n",
       "4     Can't Tell                     1.0000  Virgin America   \n",
       "\n",
       "  airline_sentiment_gold        name negativereason_gold  retweet_count  \\\n",
       "0                    NaN     cairdin                 NaN              0   \n",
       "1                    NaN    jnardino                 NaN              0   \n",
       "2                    NaN  yvonnalynn                 NaN              0   \n",
       "3                    NaN    jnardino                 NaN              0   \n",
       "4                    NaN    jnardino                 NaN              0   \n",
       "\n",
       "                                                text tweet_coord  \\\n",
       "0                @VirginAmerica What @dhepburn said.         NaN   \n",
       "1  @VirginAmerica plus you've added commercials t...         NaN   \n",
       "2  @VirginAmerica I didn't today... Must mean I n...         NaN   \n",
       "3  @VirginAmerica it's really aggressive to blast...         NaN   \n",
       "4  @VirginAmerica and it's a really big bad thing...         NaN   \n",
       "\n",
       "               tweet_created tweet_location               user_timezone  \n",
       "0  2015-02-24 11:35:52 -0800            NaN  Eastern Time (US & Canada)  \n",
       "1  2015-02-24 11:15:59 -0800            NaN  Pacific Time (US & Canada)  \n",
       "2  2015-02-24 11:15:48 -0800      Lets Play  Central Time (US & Canada)  \n",
       "3  2015-02-24 11:15:36 -0800            NaN  Pacific Time (US & Canada)  \n",
       "4  2015-02-24 11:14:45 -0800            NaN  Pacific Time (US & Canada)  "
      ]
     },
     "execution_count": 64,
     "metadata": {},
     "output_type": "execute_result"
    }
   ],
   "source": [
    "# View the data\n",
    "\n",
    "df.head()"
   ]
  },
  {
   "cell_type": "code",
   "execution_count": 65,
   "metadata": {},
   "outputs": [
    {
     "data": {
      "image/png": "[encoded data removed]",
      "text/plain": [
       "<Figure size 640x480 with 1 Axes>"
      ]
     },
     "metadata": {},
     "output_type": "display_data"
    }
   ],
   "source": [
    "df = df[[\"airline_sentiment\", \"text\"]]\n",
    "df['airline_sentiment'].hist()\n",
    "\n",
    "df = df[df[\"airline_sentiment\"] != \"Neutral\"].copy()"
   ]
  },
  {
   "cell_type": "code",
   "execution_count": 66,
   "metadata": {},
   "outputs": [],
   "source": [
    "# mapping data\n",
    "\n",
    "target_mapping = {\"positive\" : 1, \"negative\" : 0} \n",
    "df[\"target\"] = df[\"airline_sentiment\"].map(target_mapping)"
   ]
  },
  {
   "cell_type": "code",
   "execution_count": 67,
   "metadata": {},
   "outputs": [],
   "source": [
    "df_train, df_test = train_test_split(df, random_state=42)\n",
    "\n",
    "# make the text into tfidf vectors\n",
    "\n",
    "Vectorizer = TfidfVectorizer(max_features=2000)\n",
    "X_train = Vectorizer.fit_transform(df_train['text'])\n",
    "X_test = Vectorizer.transform(df_test['text'])\n",
    "\n",
    "# data must not be a sparse matrix when being put into tensorflow\n",
    "\n",
    "X_train = X_train.toarray()\n",
    "X_test = X_test.toarray()\n",
    "\n",
    "Y_train = df_train[\"target\"]\n",
    "Y_test = df_test[\"target\"]"
   ]
  },
  {
   "cell_type": "code",
   "execution_count": 68,
   "metadata": {},
   "outputs": [],
   "source": [
    "D = X_train.shape[1] # Input dimension"
   ]
  },
  {
   "cell_type": "code",
   "execution_count": 69,
   "metadata": {},
   "outputs": [],
   "source": [
    "# Build the model\n",
    "\n",
    "i = Input(shape=(D,))\n",
    "x = LST\n",
    "x = Dense(1)(i) \n",
    "\n",
    "model = Model(i, x)"
   ]
  },
  {
   "cell_type": "code",
   "execution_count": 70,
   "metadata": {},
   "outputs": [],
   "source": [
    "model.compile(\n",
    "    loss=BinaryCrossentropy(from_logits=True), # apply sigmoid with logits\n",
    "    optimizer=Adam(learning_rate=0.01),\n",
    "    metrics=['accuracy']\n",
    ")"
   ]
  },
  {
   "cell_type": "code",
   "execution_count": 71,
   "metadata": {},
   "outputs": [
    {
     "name": "stdout",
     "output_type": "stream",
     "text": [
      "Model: \"model_4\"\n",
      "_________________________________________________________________\n",
      " Layer (type)                Output Shape              Param #   \n",
      "=================================================================\n",
      " input_5 (InputLayer)        [(None, 2000)]            0         \n",
      "                                                                 \n",
      " dense_4 (Dense)             (None, 1)                 2001      \n",
      "                                                                 \n",
      "=================================================================\n",
      "Total params: 2,001\n",
      "Trainable params: 2,001\n",
      "Non-trainable params: 0\n",
      "_________________________________________________________________\n"
     ]
    }
   ],
   "source": [
    "model.summary()"
   ]
  },
  {
   "cell_type": "code",
   "execution_count": 72,
   "metadata": {},
   "outputs": [
    {
     "name": "stdout",
     "output_type": "stream",
     "text": [
      "Epoch 1/40\n",
      " 8/86 [=>............................] - ETA: 0s - loss: nan - accuracy: 0.6348 "
     ]
    },
    {
     "name": "stderr",
     "output_type": "stream",
     "text": [
      "2022-12-30 15:33:01.984917: I tensorflow/core/grappler/optimizers/custom_graph_optimizer_registry.cc:113] Plugin optimizer for device_type GPU is enabled.\n"
     ]
    },
    {
     "name": "stdout",
     "output_type": "stream",
     "text": [
      "86/86 [==============================] - 1s 10ms/step - loss: nan - accuracy: 0.6228 - val_loss: nan - val_accuracy: 0.6393\n",
      "Epoch 2/40\n",
      " 1/86 [..............................] - ETA: 0s - loss: nan - accuracy: 0.6406"
     ]
    },
    {
     "name": "stderr",
     "output_type": "stream",
     "text": [
      "2022-12-30 15:33:02.798201: I tensorflow/core/grappler/optimizers/custom_graph_optimizer_registry.cc:113] Plugin optimizer for device_type GPU is enabled.\n"
     ]
    },
    {
     "name": "stdout",
     "output_type": "stream",
     "text": [
      "86/86 [==============================] - 1s 7ms/step - loss: nan - accuracy: 0.6228 - val_loss: nan - val_accuracy: 0.6393\n",
      "Epoch 3/40\n",
      "86/86 [==============================] - 1s 7ms/step - loss: nan - accuracy: 0.6228 - val_loss: nan - val_accuracy: 0.6393\n",
      "Epoch 4/40\n",
      "86/86 [==============================] - 1s 7ms/step - loss: nan - accuracy: 0.6228 - val_loss: nan - val_accuracy: 0.6393\n",
      "Epoch 5/40\n",
      "86/86 [==============================] - 1s 7ms/step - loss: nan - accuracy: 0.6228 - val_loss: nan - val_accuracy: 0.6393\n",
      "Epoch 6/40\n",
      "86/86 [==============================] - 1s 7ms/step - loss: nan - accuracy: 0.6228 - val_loss: nan - val_accuracy: 0.6393\n",
      "Epoch 7/40\n",
      "86/86 [==============================] - 1s 7ms/step - loss: nan - accuracy: 0.6228 - val_loss: nan - val_accuracy: 0.6393\n",
      "Epoch 8/40\n",
      "86/86 [==============================] - 1s 7ms/step - loss: nan - accuracy: 0.6228 - val_loss: nan - val_accuracy: 0.6393\n",
      "Epoch 9/40\n",
      "86/86 [==============================] - 1s 7ms/step - loss: nan - accuracy: 0.6228 - val_loss: nan - val_accuracy: 0.6393\n",
      "Epoch 10/40\n",
      "86/86 [==============================] - 1s 7ms/step - loss: nan - accuracy: 0.6228 - val_loss: nan - val_accuracy: 0.6393\n",
      "Epoch 11/40\n",
      "86/86 [==============================] - 1s 8ms/step - loss: nan - accuracy: 0.6228 - val_loss: nan - val_accuracy: 0.6393\n",
      "Epoch 12/40\n",
      "86/86 [==============================] - 1s 7ms/step - loss: nan - accuracy: 0.6228 - val_loss: nan - val_accuracy: 0.6393\n",
      "Epoch 13/40\n",
      "86/86 [==============================] - 1s 6ms/step - loss: nan - accuracy: 0.6228 - val_loss: nan - val_accuracy: 0.6393\n",
      "Epoch 14/40\n",
      "86/86 [==============================] - 1s 6ms/step - loss: nan - accuracy: 0.6228 - val_loss: nan - val_accuracy: 0.6393\n",
      "Epoch 15/40\n",
      "86/86 [==============================] - 1s 6ms/step - loss: nan - accuracy: 0.6228 - val_loss: nan - val_accuracy: 0.6393\n",
      "Epoch 16/40\n",
      "86/86 [==============================] - 1s 7ms/step - loss: nan - accuracy: 0.6228 - val_loss: nan - val_accuracy: 0.6393\n",
      "Epoch 17/40\n",
      "86/86 [==============================] - 1s 6ms/step - loss: nan - accuracy: 0.6228 - val_loss: nan - val_accuracy: 0.6393\n",
      "Epoch 18/40\n",
      "86/86 [==============================] - 1s 6ms/step - loss: nan - accuracy: 0.6228 - val_loss: nan - val_accuracy: 0.6393\n",
      "Epoch 19/40\n",
      "86/86 [==============================] - 1s 6ms/step - loss: nan - accuracy: 0.6228 - val_loss: nan - val_accuracy: 0.6393\n",
      "Epoch 20/40\n",
      "86/86 [==============================] - 1s 6ms/step - loss: nan - accuracy: 0.6228 - val_loss: nan - val_accuracy: 0.6393\n",
      "Epoch 21/40\n",
      "86/86 [==============================] - 1s 6ms/step - loss: nan - accuracy: 0.6228 - val_loss: nan - val_accuracy: 0.6393\n",
      "Epoch 22/40\n",
      "86/86 [==============================] - 1s 6ms/step - loss: nan - accuracy: 0.6228 - val_loss: nan - val_accuracy: 0.6393\n",
      "Epoch 23/40\n",
      "86/86 [==============================] - 1s 6ms/step - loss: nan - accuracy: 0.6228 - val_loss: nan - val_accuracy: 0.6393\n",
      "Epoch 24/40\n",
      "86/86 [==============================] - 1s 6ms/step - loss: nan - accuracy: 0.6228 - val_loss: nan - val_accuracy: 0.6393\n",
      "Epoch 25/40\n",
      "86/86 [==============================] - 1s 6ms/step - loss: nan - accuracy: 0.6228 - val_loss: nan - val_accuracy: 0.6393\n",
      "Epoch 26/40\n",
      "86/86 [==============================] - 1s 6ms/step - loss: nan - accuracy: 0.6228 - val_loss: nan - val_accuracy: 0.6393\n",
      "Epoch 27/40\n",
      "86/86 [==============================] - 1s 6ms/step - loss: nan - accuracy: 0.6228 - val_loss: nan - val_accuracy: 0.6393\n",
      "Epoch 28/40\n",
      "86/86 [==============================] - 1s 6ms/step - loss: nan - accuracy: 0.6228 - val_loss: nan - val_accuracy: 0.6393\n",
      "Epoch 29/40\n",
      "86/86 [==============================] - 1s 6ms/step - loss: nan - accuracy: 0.6228 - val_loss: nan - val_accuracy: 0.6393\n",
      "Epoch 30/40\n",
      "86/86 [==============================] - 1s 7ms/step - loss: nan - accuracy: 0.6228 - val_loss: nan - val_accuracy: 0.6393\n",
      "Epoch 31/40\n",
      "86/86 [==============================] - 1s 6ms/step - loss: nan - accuracy: 0.6228 - val_loss: nan - val_accuracy: 0.6393\n",
      "Epoch 32/40\n",
      "86/86 [==============================] - 1s 6ms/step - loss: nan - accuracy: 0.6228 - val_loss: nan - val_accuracy: 0.6393\n",
      "Epoch 33/40\n",
      "86/86 [==============================] - 1s 6ms/step - loss: nan - accuracy: 0.6228 - val_loss: nan - val_accuracy: 0.6393\n",
      "Epoch 34/40\n",
      "86/86 [==============================] - 1s 6ms/step - loss: nan - accuracy: 0.6228 - val_loss: nan - val_accuracy: 0.6393\n",
      "Epoch 35/40\n",
      "86/86 [==============================] - 1s 6ms/step - loss: nan - accuracy: 0.6228 - val_loss: nan - val_accuracy: 0.6393\n",
      "Epoch 36/40\n",
      "86/86 [==============================] - 1s 6ms/step - loss: nan - accuracy: 0.6228 - val_loss: nan - val_accuracy: 0.6393\n",
      "Epoch 37/40\n",
      "86/86 [==============================] - 1s 7ms/step - loss: nan - accuracy: 0.6228 - val_loss: nan - val_accuracy: 0.6393\n",
      "Epoch 38/40\n",
      "86/86 [==============================] - 1s 6ms/step - loss: nan - accuracy: 0.6228 - val_loss: nan - val_accuracy: 0.6393\n",
      "Epoch 39/40\n",
      "86/86 [==============================] - 1s 7ms/step - loss: nan - accuracy: 0.6228 - val_loss: nan - val_accuracy: 0.6393\n",
      "Epoch 40/40\n",
      "86/86 [==============================] - 1s 8ms/step - loss: nan - accuracy: 0.6228 - val_loss: nan - val_accuracy: 0.6393\n"
     ]
    }
   ],
   "source": [
    "\n",
    "r = model.fit(X_train,\n",
    "          Y_train,\n",
    "          validation_data=(X_test, Y_test),              \n",
    "          epochs=40,        \n",
    "          batch_size=128\n",
    "          )     \n",
    "    "
   ]
  },
  {
   "cell_type": "code",
   "execution_count": 73,
   "metadata": {},
   "outputs": [
    {
     "data": {
      "image/png": "[encoded data removed]",
      "text/plain": [
       "<Figure size 640x480 with 1 Axes>"
      ]
     },
     "metadata": {},
     "output_type": "display_data"
    }
   ],
   "source": [
    "plt.plot(r.history[\"accuracy\"], label=\"accuracy\")\n",
    "plt.legend();"
   ]
  },
  {
   "cell_type": "code",
   "execution_count": null,
   "metadata": {},
   "outputs": [],
   "source": []
  }
 ],
 "metadata": {
  "kernelspec": {
   "display_name": "NLP",
   "language": "python",
   "name": "python3"
  },
  "language_info": {
   "codemirror_mode": {
    "name": "ipython",
    "version": 3
   },
   "file_extension": ".py",
   "mimetype": "text/x-python",
   "name": "python",
   "nbconvert_exporter": "python",
   "pygments_lexer": "ipython3",
   "version": "3.9.15 | packaged by conda-forge | (main, Nov 22 2022, 08:48:25) \n[Clang 14.0.6 ]"
  },
  "orig_nbformat": 4,
  "vscode": {
   "interpreter": {
    "hash": "47bab29d1182c25e62abc97ecc99100a5973ac009dbf399a8dc3a718426cff4c"
   }
  }
 },
 "nbformat": 4,
 "nbformat_minor": 2
}
