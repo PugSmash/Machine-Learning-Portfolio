{
 "cells": [
  {
   "cell_type": "code",
   "execution_count": 50,
   "metadata": {},
   "outputs": [],
   "source": [
    "import numpy as np\n",
    "import tensorflow as tf\n",
    "import matplotlib.pyplot as plt\n",
    "\n",
    "from tensorflow.keras.layers import Dense, Input\n",
    "from tensorflow.keras.models import Model\n",
    "from tensorflow.keras.optimizers.legacy import Adam"
   ]
  },
  {
   "cell_type": "code",
   "execution_count": 51,
   "metadata": {},
   "outputs": [
    {
     "data": {
      "text/plain": [
       "<matplotlib.collections.PathCollection at 0x16e416ac0>"
      ]
     },
     "execution_count": 51,
     "metadata": {},
     "output_type": "execute_result"
    },
    {
     "data": {
      "image/png": "[encoded data removed]",
      "text/plain": [
       "<Figure size 640x480 with 1 Axes>"
      ]
     },
     "metadata": {},
     "output_type": "display_data"
    }
   ],
   "source": [
    "N = 100 # Number of inputs\n",
    "X = np.random.random(N) * 6 - 3 # inputs\n",
    "y = 0.5 * X + np.random.randn(N) * 0.5 # targets\n",
    "\n",
    "plt.scatter(X, y) # plot the graph\n"
   ]
  },
  {
   "cell_type": "code",
   "execution_count": 52,
   "metadata": {},
   "outputs": [],
   "source": [
    "# Build the model\n",
    "\n",
    "i = Input(shape=(1,)) # one diemsional shape of input\n",
    "x = Dense(1)(i) # does mx + c stuff, can be done by matricies\n",
    "\n",
    "model = Model(i, x) # i is input x is output"
   ]
  },
  {
   "cell_type": "code",
   "execution_count": 53,
   "metadata": {},
   "outputs": [
    {
     "name": "stdout",
     "output_type": "stream",
     "text": [
      "Model: \"model_3\"\n",
      "_________________________________________________________________\n",
      " Layer (type)                Output Shape              Param #   \n",
      "=================================================================\n",
      " input_4 (InputLayer)        [(None, 1)]               0         \n",
      "                                                                 \n",
      " dense_3 (Dense)             (None, 1)                 2         \n",
      "                                                                 \n",
      "=================================================================\n",
      "Total params: 2\n",
      "Trainable params: 2\n",
      "Non-trainable params: 0\n",
      "_________________________________________________________________\n"
     ]
    }
   ],
   "source": [
    "model.summary() # none is a wild card --> can take any number of dimensions"
   ]
  },
  {
   "cell_type": "code",
   "execution_count": 54,
   "metadata": {},
   "outputs": [],
   "source": [
    "model.compile(\n",
    "    loss='mse', # mean squared error (we can use built in or pass in a function like adam)\n",
    "    optimizer=Adam(learning_rate=0.1), # flavour of gradient descent\n",
    "    metrics=['mae'] # mean absolute error\n",
    ")"
   ]
  },
  {
   "cell_type": "code",
   "execution_count": 55,
   "metadata": {},
   "outputs": [
    {
     "name": "stdout",
     "output_type": "stream",
     "text": [
      "Epoch 1/200\n",
      "4/4 [==============================] - 0s 12ms/step - loss: 8.8063 - mae: 2.5991\n",
      "Epoch 2/200\n",
      "4/4 [==============================] - 0s 6ms/step - loss: 5.0959 - mae: 1.9637\n",
      "Epoch 3/200\n",
      "4/4 [==============================] - 0s 6ms/step - loss: 2.4577 - mae: 1.3474\n",
      "Epoch 4/200\n",
      "4/4 [==============================] - 0s 6ms/step - loss: 1.0312 - mae: 0.8281\n",
      "Epoch 5/200\n",
      "1/4 [======>.......................] - ETA: 0s - loss: 0.4986 - mae: 0.5586"
     ]
    },
    {
     "name": "stderr",
     "output_type": "stream",
     "text": [
      "2022-12-30 14:49:43.824997: I tensorflow/core/grappler/optimizers/custom_graph_optimizer_registry.cc:114] Plugin optimizer for device_type GPU is enabled.\n"
     ]
    },
    {
     "name": "stdout",
     "output_type": "stream",
     "text": [
      "4/4 [==============================] - 0s 6ms/step - loss: 0.3783 - mae: 0.4753\n",
      "Epoch 6/200\n",
      "4/4 [==============================] - 0s 7ms/step - loss: 0.3082 - mae: 0.4370\n",
      "Epoch 7/200\n",
      "4/4 [==============================] - 0s 6ms/step - loss: 0.3702 - mae: 0.5045\n",
      "Epoch 8/200\n",
      "4/4 [==============================] - 0s 6ms/step - loss: 0.4329 - mae: 0.5444\n",
      "Epoch 9/200\n",
      "4/4 [==============================] - 0s 6ms/step - loss: 0.4246 - mae: 0.5326\n",
      "Epoch 10/200\n",
      "4/4 [==============================] - 0s 6ms/step - loss: 0.3596 - mae: 0.4840\n",
      "Epoch 11/200\n",
      "4/4 [==============================] - 0s 6ms/step - loss: 0.2844 - mae: 0.4293\n",
      "Epoch 12/200\n",
      "4/4 [==============================] - 0s 6ms/step - loss: 0.2427 - mae: 0.3949\n",
      "Epoch 13/200\n",
      "4/4 [==============================] - 0s 7ms/step - loss: 0.2403 - mae: 0.3891\n",
      "Epoch 14/200\n",
      "4/4 [==============================] - 0s 6ms/step - loss: 0.2520 - mae: 0.3948\n",
      "Epoch 15/200\n",
      "4/4 [==============================] - 0s 6ms/step - loss: 0.2603 - mae: 0.3986\n",
      "Epoch 16/200\n",
      "4/4 [==============================] - 0s 6ms/step - loss: 0.2567 - mae: 0.3956\n",
      "Epoch 17/200\n",
      "4/4 [==============================] - 0s 14ms/step - loss: 0.2448 - mae: 0.3884\n",
      "Epoch 18/200\n",
      "4/4 [==============================] - 0s 6ms/step - loss: 0.2371 - mae: 0.3861\n",
      "Epoch 19/200\n",
      "4/4 [==============================] - 0s 7ms/step - loss: 0.2382 - mae: 0.3906\n",
      "Epoch 20/200\n",
      "4/4 [==============================] - 0s 7ms/step - loss: 0.2391 - mae: 0.3936\n",
      "Epoch 21/200\n",
      "4/4 [==============================] - 0s 7ms/step - loss: 0.2393 - mae: 0.3956\n",
      "Epoch 22/200\n",
      "4/4 [==============================] - 0s 7ms/step - loss: 0.2398 - mae: 0.3952\n",
      "Epoch 23/200\n",
      "4/4 [==============================] - 0s 6ms/step - loss: 0.2377 - mae: 0.3910\n",
      "Epoch 24/200\n",
      "4/4 [==============================] - 0s 6ms/step - loss: 0.2369 - mae: 0.3882\n",
      "Epoch 25/200\n",
      "4/4 [==============================] - 0s 6ms/step - loss: 0.2378 - mae: 0.3861\n",
      "Epoch 26/200\n",
      "4/4 [==============================] - 0s 6ms/step - loss: 0.2400 - mae: 0.3863\n",
      "Epoch 27/200\n",
      "4/4 [==============================] - 0s 6ms/step - loss: 0.2421 - mae: 0.3884\n",
      "Epoch 28/200\n",
      "4/4 [==============================] - 0s 6ms/step - loss: 0.2397 - mae: 0.3885\n",
      "Epoch 29/200\n",
      "4/4 [==============================] - 0s 6ms/step - loss: 0.2366 - mae: 0.3885\n",
      "Epoch 30/200\n",
      "4/4 [==============================] - 0s 6ms/step - loss: 0.2378 - mae: 0.3895\n",
      "Epoch 31/200\n",
      "4/4 [==============================] - 0s 6ms/step - loss: 0.2395 - mae: 0.3891\n",
      "Epoch 32/200\n",
      "4/4 [==============================] - 0s 7ms/step - loss: 0.2375 - mae: 0.3876\n",
      "Epoch 33/200\n",
      "4/4 [==============================] - 0s 6ms/step - loss: 0.2376 - mae: 0.3891\n",
      "Epoch 34/200\n",
      "4/4 [==============================] - 0s 6ms/step - loss: 0.2374 - mae: 0.3893\n",
      "Epoch 35/200\n",
      "4/4 [==============================] - 0s 6ms/step - loss: 0.2385 - mae: 0.3927\n",
      "Epoch 36/200\n",
      "4/4 [==============================] - 0s 6ms/step - loss: 0.2417 - mae: 0.3976\n",
      "Epoch 37/200\n",
      "4/4 [==============================] - 0s 6ms/step - loss: 0.2498 - mae: 0.4017\n",
      "Epoch 38/200\n",
      "4/4 [==============================] - 0s 6ms/step - loss: 0.2498 - mae: 0.4027\n",
      "Epoch 39/200\n",
      "4/4 [==============================] - 0s 5ms/step - loss: 0.2437 - mae: 0.3990\n",
      "Epoch 40/200\n",
      "4/4 [==============================] - 0s 6ms/step - loss: 0.2399 - mae: 0.3967\n",
      "Epoch 41/200\n",
      "4/4 [==============================] - 0s 6ms/step - loss: 0.2393 - mae: 0.3949\n",
      "Epoch 42/200\n",
      "4/4 [==============================] - 0s 6ms/step - loss: 0.2366 - mae: 0.3889\n",
      "Epoch 43/200\n",
      "4/4 [==============================] - 0s 7ms/step - loss: 0.2426 - mae: 0.3909\n",
      "Epoch 44/200\n",
      "4/4 [==============================] - 0s 6ms/step - loss: 0.2551 - mae: 0.3913\n",
      "Epoch 45/200\n",
      "4/4 [==============================] - 0s 6ms/step - loss: 0.2479 - mae: 0.3868\n",
      "Epoch 46/200\n",
      "4/4 [==============================] - 0s 6ms/step - loss: 0.2378 - mae: 0.3855\n",
      "Epoch 47/200\n",
      "4/4 [==============================] - 0s 5ms/step - loss: 0.2388 - mae: 0.3940\n",
      "Epoch 48/200\n",
      "4/4 [==============================] - 0s 6ms/step - loss: 0.2388 - mae: 0.3949\n",
      "Epoch 49/200\n",
      "4/4 [==============================] - 0s 5ms/step - loss: 0.2391 - mae: 0.3929\n",
      "Epoch 50/200\n",
      "4/4 [==============================] - 0s 6ms/step - loss: 0.2374 - mae: 0.3887\n",
      "Epoch 51/200\n",
      "4/4 [==============================] - 0s 5ms/step - loss: 0.2367 - mae: 0.3887\n",
      "Epoch 52/200\n",
      "4/4 [==============================] - 0s 6ms/step - loss: 0.2363 - mae: 0.3887\n",
      "Epoch 53/200\n",
      "4/4 [==============================] - 0s 6ms/step - loss: 0.2404 - mae: 0.3916\n",
      "Epoch 54/200\n",
      "4/4 [==============================] - 0s 6ms/step - loss: 0.2485 - mae: 0.3965\n",
      "Epoch 55/200\n",
      "4/4 [==============================] - 0s 6ms/step - loss: 0.2464 - mae: 0.3943\n",
      "Epoch 56/200\n",
      "4/4 [==============================] - 0s 6ms/step - loss: 0.2447 - mae: 0.3957\n",
      "Epoch 57/200\n",
      "4/4 [==============================] - 0s 6ms/step - loss: 0.2432 - mae: 0.3958\n",
      "Epoch 58/200\n",
      "4/4 [==============================] - 0s 5ms/step - loss: 0.2387 - mae: 0.3905\n",
      "Epoch 59/200\n",
      "4/4 [==============================] - 0s 6ms/step - loss: 0.2377 - mae: 0.3898\n",
      "Epoch 60/200\n",
      "4/4 [==============================] - 0s 6ms/step - loss: 0.2377 - mae: 0.3894\n",
      "Epoch 61/200\n",
      "4/4 [==============================] - 0s 6ms/step - loss: 0.2395 - mae: 0.3895\n",
      "Epoch 62/200\n",
      "4/4 [==============================] - 0s 6ms/step - loss: 0.2492 - mae: 0.3963\n",
      "Epoch 63/200\n",
      "4/4 [==============================] - 0s 6ms/step - loss: 0.2487 - mae: 0.3963\n",
      "Epoch 64/200\n",
      "4/4 [==============================] - 0s 6ms/step - loss: 0.2387 - mae: 0.3852\n",
      "Epoch 65/200\n",
      "4/4 [==============================] - 0s 6ms/step - loss: 0.2456 - mae: 0.3940\n",
      "Epoch 66/200\n",
      "4/4 [==============================] - 0s 6ms/step - loss: 0.2498 - mae: 0.4011\n",
      "Epoch 67/200\n",
      "4/4 [==============================] - 0s 7ms/step - loss: 0.2448 - mae: 0.4030\n",
      "Epoch 68/200\n",
      "4/4 [==============================] - 0s 6ms/step - loss: 0.2400 - mae: 0.3957\n",
      "Epoch 69/200\n",
      "4/4 [==============================] - 0s 6ms/step - loss: 0.2349 - mae: 0.3845\n",
      "Epoch 70/200\n",
      "4/4 [==============================] - 0s 6ms/step - loss: 0.2431 - mae: 0.3850\n",
      "Epoch 71/200\n",
      "4/4 [==============================] - 0s 6ms/step - loss: 0.2492 - mae: 0.3888\n",
      "Epoch 72/200\n",
      "4/4 [==============================] - 0s 6ms/step - loss: 0.2448 - mae: 0.3875\n",
      "Epoch 73/200\n",
      "4/4 [==============================] - 0s 6ms/step - loss: 0.2419 - mae: 0.3881\n",
      "Epoch 74/200\n",
      "4/4 [==============================] - 0s 6ms/step - loss: 0.2408 - mae: 0.3934\n",
      "Epoch 75/200\n",
      "4/4 [==============================] - 0s 6ms/step - loss: 0.2384 - mae: 0.3926\n",
      "Epoch 76/200\n",
      "4/4 [==============================] - 0s 6ms/step - loss: 0.2378 - mae: 0.3906\n",
      "Epoch 77/200\n",
      "4/4 [==============================] - 0s 6ms/step - loss: 0.2389 - mae: 0.3915\n",
      "Epoch 78/200\n",
      "4/4 [==============================] - 0s 6ms/step - loss: 0.2370 - mae: 0.3867\n",
      "Epoch 79/200\n",
      "4/4 [==============================] - 0s 6ms/step - loss: 0.2392 - mae: 0.3878\n",
      "Epoch 80/200\n",
      "4/4 [==============================] - 0s 6ms/step - loss: 0.2450 - mae: 0.3883\n",
      "Epoch 81/200\n",
      "4/4 [==============================] - 0s 6ms/step - loss: 0.2441 - mae: 0.3889\n",
      "Epoch 82/200\n",
      "4/4 [==============================] - 0s 6ms/step - loss: 0.2372 - mae: 0.3874\n",
      "Epoch 83/200\n",
      "4/4 [==============================] - 0s 6ms/step - loss: 0.2373 - mae: 0.3936\n",
      "Epoch 84/200\n",
      "4/4 [==============================] - 0s 6ms/step - loss: 0.2449 - mae: 0.3995\n",
      "Epoch 85/200\n",
      "4/4 [==============================] - 0s 6ms/step - loss: 0.2483 - mae: 0.4031\n",
      "Epoch 86/200\n",
      "4/4 [==============================] - 0s 6ms/step - loss: 0.2432 - mae: 0.3988\n",
      "Epoch 87/200\n",
      "4/4 [==============================] - 0s 6ms/step - loss: 0.2412 - mae: 0.3945\n",
      "Epoch 88/200\n",
      "4/4 [==============================] - 0s 6ms/step - loss: 0.2382 - mae: 0.3942\n",
      "Epoch 89/200\n",
      "4/4 [==============================] - 0s 6ms/step - loss: 0.2383 - mae: 0.3906\n",
      "Epoch 90/200\n",
      "4/4 [==============================] - 0s 7ms/step - loss: 0.2411 - mae: 0.3865\n",
      "Epoch 91/200\n",
      "4/4 [==============================] - 0s 6ms/step - loss: 0.2474 - mae: 0.3914\n",
      "Epoch 92/200\n",
      "4/4 [==============================] - 0s 6ms/step - loss: 0.2496 - mae: 0.3932\n",
      "Epoch 93/200\n",
      "4/4 [==============================] - 0s 6ms/step - loss: 0.2387 - mae: 0.3849\n",
      "Epoch 94/200\n",
      "4/4 [==============================] - 0s 7ms/step - loss: 0.2399 - mae: 0.3924\n",
      "Epoch 95/200\n",
      "4/4 [==============================] - 0s 6ms/step - loss: 0.2502 - mae: 0.4042\n",
      "Epoch 96/200\n",
      "4/4 [==============================] - 0s 7ms/step - loss: 0.2399 - mae: 0.3910\n",
      "Epoch 97/200\n",
      "4/4 [==============================] - 0s 6ms/step - loss: 0.2532 - mae: 0.4000\n",
      "Epoch 98/200\n",
      "4/4 [==============================] - 0s 6ms/step - loss: 0.2511 - mae: 0.3967\n",
      "Epoch 99/200\n",
      "4/4 [==============================] - 0s 6ms/step - loss: 0.2459 - mae: 0.3899\n",
      "Epoch 100/200\n",
      "4/4 [==============================] - 0s 5ms/step - loss: 0.2535 - mae: 0.3966\n",
      "Epoch 101/200\n",
      "4/4 [==============================] - 0s 5ms/step - loss: 0.2520 - mae: 0.3998\n",
      "Epoch 102/200\n",
      "4/4 [==============================] - 0s 6ms/step - loss: 0.2394 - mae: 0.3945\n",
      "Epoch 103/200\n",
      "4/4 [==============================] - 0s 6ms/step - loss: 0.2427 - mae: 0.3998\n",
      "Epoch 104/200\n",
      "4/4 [==============================] - 0s 5ms/step - loss: 0.2446 - mae: 0.4014\n",
      "Epoch 105/200\n",
      "4/4 [==============================] - 0s 6ms/step - loss: 0.2520 - mae: 0.4051\n",
      "Epoch 106/200\n",
      "4/4 [==============================] - 0s 6ms/step - loss: 0.2480 - mae: 0.4009\n",
      "Epoch 107/200\n",
      "4/4 [==============================] - 0s 5ms/step - loss: 0.2398 - mae: 0.3946\n",
      "Epoch 108/200\n",
      "4/4 [==============================] - 0s 6ms/step - loss: 0.2437 - mae: 0.3907\n",
      "Epoch 109/200\n",
      "4/4 [==============================] - 0s 5ms/step - loss: 0.2504 - mae: 0.3918\n",
      "Epoch 110/200\n",
      "4/4 [==============================] - 0s 6ms/step - loss: 0.2461 - mae: 0.3900\n",
      "Epoch 111/200\n",
      "4/4 [==============================] - 0s 5ms/step - loss: 0.2371 - mae: 0.3886\n",
      "Epoch 112/200\n",
      "4/4 [==============================] - 0s 6ms/step - loss: 0.2368 - mae: 0.3910\n",
      "Epoch 113/200\n",
      "4/4 [==============================] - 0s 5ms/step - loss: 0.2397 - mae: 0.3938\n",
      "Epoch 114/200\n",
      "4/4 [==============================] - 0s 6ms/step - loss: 0.2399 - mae: 0.3937\n",
      "Epoch 115/200\n",
      "4/4 [==============================] - 0s 6ms/step - loss: 0.2386 - mae: 0.3935\n",
      "Epoch 116/200\n",
      "4/4 [==============================] - 0s 5ms/step - loss: 0.2401 - mae: 0.3912\n",
      "Epoch 117/200\n",
      "4/4 [==============================] - 0s 5ms/step - loss: 0.2422 - mae: 0.3905\n",
      "Epoch 118/200\n",
      "4/4 [==============================] - 0s 6ms/step - loss: 0.2462 - mae: 0.3919\n",
      "Epoch 119/200\n",
      "4/4 [==============================] - 0s 5ms/step - loss: 0.2395 - mae: 0.3861\n",
      "Epoch 120/200\n",
      "4/4 [==============================] - 0s 7ms/step - loss: 0.2385 - mae: 0.3878\n",
      "Epoch 121/200\n",
      "4/4 [==============================] - 0s 6ms/step - loss: 0.2415 - mae: 0.3919\n",
      "Epoch 122/200\n",
      "4/4 [==============================] - 0s 5ms/step - loss: 0.2412 - mae: 0.3926\n",
      "Epoch 123/200\n",
      "4/4 [==============================] - 0s 5ms/step - loss: 0.2365 - mae: 0.3883\n",
      "Epoch 124/200\n",
      "4/4 [==============================] - 0s 6ms/step - loss: 0.2381 - mae: 0.3891\n",
      "Epoch 125/200\n",
      "4/4 [==============================] - 0s 5ms/step - loss: 0.2407 - mae: 0.3916\n",
      "Epoch 126/200\n",
      "4/4 [==============================] - 0s 6ms/step - loss: 0.2402 - mae: 0.3932\n",
      "Epoch 127/200\n",
      "4/4 [==============================] - 0s 6ms/step - loss: 0.2417 - mae: 0.3957\n",
      "Epoch 128/200\n",
      "4/4 [==============================] - 0s 6ms/step - loss: 0.2384 - mae: 0.3922\n",
      "Epoch 129/200\n",
      "4/4 [==============================] - 0s 5ms/step - loss: 0.2371 - mae: 0.3869\n",
      "Epoch 130/200\n",
      "4/4 [==============================] - 0s 6ms/step - loss: 0.2457 - mae: 0.3884\n",
      "Epoch 131/200\n",
      "4/4 [==============================] - 0s 6ms/step - loss: 0.2423 - mae: 0.3891\n",
      "Epoch 132/200\n",
      "4/4 [==============================] - 0s 6ms/step - loss: 0.2375 - mae: 0.3920\n",
      "Epoch 133/200\n",
      "4/4 [==============================] - 0s 6ms/step - loss: 0.2406 - mae: 0.3962\n",
      "Epoch 134/200\n",
      "4/4 [==============================] - 0s 5ms/step - loss: 0.2426 - mae: 0.3996\n",
      "Epoch 135/200\n",
      "4/4 [==============================] - 0s 6ms/step - loss: 0.2427 - mae: 0.3962\n",
      "Epoch 136/200\n",
      "4/4 [==============================] - 0s 6ms/step - loss: 0.2411 - mae: 0.3951\n",
      "Epoch 137/200\n",
      "4/4 [==============================] - 0s 6ms/step - loss: 0.2392 - mae: 0.3902\n",
      "Epoch 138/200\n",
      "4/4 [==============================] - 0s 5ms/step - loss: 0.2450 - mae: 0.3914\n",
      "Epoch 139/200\n",
      "4/4 [==============================] - 0s 5ms/step - loss: 0.2357 - mae: 0.3860\n",
      "Epoch 140/200\n",
      "4/4 [==============================] - 0s 5ms/step - loss: 0.2427 - mae: 0.3956\n",
      "Epoch 141/200\n",
      "4/4 [==============================] - 0s 5ms/step - loss: 0.2424 - mae: 0.3954\n",
      "Epoch 142/200\n",
      "4/4 [==============================] - 0s 6ms/step - loss: 0.2379 - mae: 0.3907\n",
      "Epoch 143/200\n",
      "4/4 [==============================] - 0s 5ms/step - loss: 0.2371 - mae: 0.3920\n",
      "Epoch 144/200\n",
      "4/4 [==============================] - 0s 5ms/step - loss: 0.2390 - mae: 0.3927\n",
      "Epoch 145/200\n",
      "4/4 [==============================] - 0s 6ms/step - loss: 0.2377 - mae: 0.3902\n",
      "Epoch 146/200\n",
      "4/4 [==============================] - 0s 6ms/step - loss: 0.2363 - mae: 0.3912\n",
      "Epoch 147/200\n",
      "4/4 [==============================] - 0s 6ms/step - loss: 0.2436 - mae: 0.3937\n",
      "Epoch 148/200\n",
      "4/4 [==============================] - 0s 6ms/step - loss: 0.2429 - mae: 0.3912\n",
      "Epoch 149/200\n",
      "4/4 [==============================] - 0s 6ms/step - loss: 0.2409 - mae: 0.3837\n",
      "Epoch 150/200\n",
      "4/4 [==============================] - 0s 5ms/step - loss: 0.2549 - mae: 0.3997\n",
      "Epoch 151/200\n",
      "4/4 [==============================] - 0s 6ms/step - loss: 0.2507 - mae: 0.3985\n",
      "Epoch 152/200\n",
      "4/4 [==============================] - 0s 5ms/step - loss: 0.2371 - mae: 0.3835\n",
      "Epoch 153/200\n",
      "4/4 [==============================] - 0s 6ms/step - loss: 0.2449 - mae: 0.3945\n",
      "Epoch 154/200\n",
      "4/4 [==============================] - 0s 6ms/step - loss: 0.2578 - mae: 0.4111\n",
      "Epoch 155/200\n",
      "4/4 [==============================] - 0s 5ms/step - loss: 0.2716 - mae: 0.4214\n",
      "Epoch 156/200\n",
      "4/4 [==============================] - 0s 6ms/step - loss: 0.2566 - mae: 0.4050\n",
      "Epoch 157/200\n",
      "4/4 [==============================] - 0s 5ms/step - loss: 0.2488 - mae: 0.3932\n",
      "Epoch 158/200\n",
      "4/4 [==============================] - 0s 5ms/step - loss: 0.2520 - mae: 0.3929\n",
      "Epoch 159/200\n",
      "4/4 [==============================] - 0s 6ms/step - loss: 0.2473 - mae: 0.3952\n",
      "Epoch 160/200\n",
      "4/4 [==============================] - 0s 6ms/step - loss: 0.2368 - mae: 0.3930\n",
      "Epoch 161/200\n",
      "4/4 [==============================] - 0s 6ms/step - loss: 0.2430 - mae: 0.3976\n",
      "Epoch 162/200\n",
      "4/4 [==============================] - 0s 5ms/step - loss: 0.2449 - mae: 0.3946\n",
      "Epoch 163/200\n",
      "4/4 [==============================] - 0s 5ms/step - loss: 0.2390 - mae: 0.3862\n",
      "Epoch 164/200\n",
      "4/4 [==============================] - 0s 6ms/step - loss: 0.2414 - mae: 0.3913\n",
      "Epoch 165/200\n",
      "4/4 [==============================] - 0s 6ms/step - loss: 0.2410 - mae: 0.3937\n",
      "Epoch 166/200\n",
      "4/4 [==============================] - 0s 5ms/step - loss: 0.2390 - mae: 0.3959\n",
      "Epoch 167/200\n",
      "4/4 [==============================] - 0s 6ms/step - loss: 0.2396 - mae: 0.3948\n",
      "Epoch 168/200\n",
      "4/4 [==============================] - 0s 6ms/step - loss: 0.2402 - mae: 0.3954\n",
      "Epoch 169/200\n",
      "4/4 [==============================] - 0s 5ms/step - loss: 0.2411 - mae: 0.3966\n",
      "Epoch 170/200\n",
      "4/4 [==============================] - 0s 5ms/step - loss: 0.2369 - mae: 0.3914\n",
      "Epoch 171/200\n",
      "4/4 [==============================] - 0s 6ms/step - loss: 0.2423 - mae: 0.3895\n",
      "Epoch 172/200\n",
      "4/4 [==============================] - 0s 6ms/step - loss: 0.2548 - mae: 0.4012\n",
      "Epoch 173/200\n",
      "4/4 [==============================] - 0s 5ms/step - loss: 0.2588 - mae: 0.4032\n",
      "Epoch 174/200\n",
      "4/4 [==============================] - 0s 6ms/step - loss: 0.2352 - mae: 0.3809\n",
      "Epoch 175/200\n",
      "4/4 [==============================] - 0s 6ms/step - loss: 0.2421 - mae: 0.3980\n",
      "Epoch 176/200\n",
      "4/4 [==============================] - 0s 5ms/step - loss: 0.2486 - mae: 0.4056\n",
      "Epoch 177/200\n",
      "4/4 [==============================] - 0s 12ms/step - loss: 0.2445 - mae: 0.3999\n",
      "Epoch 178/200\n",
      "4/4 [==============================] - 0s 6ms/step - loss: 0.2422 - mae: 0.3953\n",
      "Epoch 179/200\n",
      "4/4 [==============================] - 0s 5ms/step - loss: 0.2474 - mae: 0.3942\n",
      "Epoch 180/200\n",
      "4/4 [==============================] - 0s 5ms/step - loss: 0.2467 - mae: 0.3934\n",
      "Epoch 181/200\n",
      "4/4 [==============================] - 0s 6ms/step - loss: 0.2374 - mae: 0.3903\n",
      "Epoch 182/200\n",
      "4/4 [==============================] - 0s 5ms/step - loss: 0.2465 - mae: 0.3902\n",
      "Epoch 183/200\n",
      "4/4 [==============================] - 0s 6ms/step - loss: 0.2538 - mae: 0.3921\n",
      "Epoch 184/200\n",
      "4/4 [==============================] - 0s 6ms/step - loss: 0.2484 - mae: 0.3985\n",
      "Epoch 185/200\n",
      "4/4 [==============================] - 0s 6ms/step - loss: 0.2599 - mae: 0.4094\n",
      "Epoch 186/200\n",
      "4/4 [==============================] - 0s 5ms/step - loss: 0.2499 - mae: 0.4041\n",
      "Epoch 187/200\n",
      "4/4 [==============================] - 0s 5ms/step - loss: 0.2460 - mae: 0.3975\n",
      "Epoch 188/200\n",
      "4/4 [==============================] - 0s 5ms/step - loss: 0.2421 - mae: 0.3890\n",
      "Epoch 189/200\n",
      "4/4 [==============================] - 0s 6ms/step - loss: 0.2382 - mae: 0.3922\n",
      "Epoch 190/200\n",
      "4/4 [==============================] - 0s 6ms/step - loss: 0.2476 - mae: 0.3972\n",
      "Epoch 191/200\n",
      "4/4 [==============================] - 0s 6ms/step - loss: 0.2412 - mae: 0.3934\n",
      "Epoch 192/200\n",
      "4/4 [==============================] - 0s 6ms/step - loss: 0.2447 - mae: 0.3991\n",
      "Epoch 193/200\n",
      "4/4 [==============================] - 0s 5ms/step - loss: 0.2567 - mae: 0.4034\n",
      "Epoch 194/200\n",
      "4/4 [==============================] - 0s 5ms/step - loss: 0.2551 - mae: 0.3989\n",
      "Epoch 195/200\n",
      "4/4 [==============================] - 0s 5ms/step - loss: 0.2341 - mae: 0.3861\n",
      "Epoch 196/200\n",
      "4/4 [==============================] - 0s 5ms/step - loss: 0.2562 - mae: 0.4016\n",
      "Epoch 197/200\n",
      "4/4 [==============================] - 0s 6ms/step - loss: 0.2808 - mae: 0.4220\n",
      "Epoch 198/200\n",
      "4/4 [==============================] - 0s 6ms/step - loss: 0.2513 - mae: 0.4020\n",
      "Epoch 199/200\n",
      "4/4 [==============================] - 0s 6ms/step - loss: 0.2413 - mae: 0.3933\n",
      "Epoch 200/200\n",
      "4/4 [==============================] - 0s 5ms/step - loss: 0.2585 - mae: 0.3966\n"
     ]
    }
   ],
   "source": [
    "\n",
    "r = model.fit(X.reshape(-1, 1),  # gradient descent process\n",
    "          y,                 # inputs and targets first two parameters\n",
    "          epochs=200,        # steps in gradient descent\n",
    "          batch_size=32)     # how many data points are looked at at each step"
   ]
  },
  {
   "cell_type": "code",
   "execution_count": 56,
   "metadata": {},
   "outputs": [
    {
     "data": {
      "image/png": "[encoded data removed]",
      "text/plain": [
       "<Figure size 640x480 with 1 Axes>"
      ]
     },
     "metadata": {},
     "output_type": "display_data"
    }
   ],
   "source": [
    "# Plot loss per iteration - you can also plot any metrics in the same way\n",
    "plt.plot(r.history[\"loss\"], label=\"loss\")\n",
    "plt.legend();"
   ]
  },
  {
   "cell_type": "code",
   "execution_count": 57,
   "metadata": {},
   "outputs": [
    {
     "name": "stdout",
     "output_type": "stream",
     "text": [
      "WARNING:tensorflow:AutoGraph could not transform <function Model.make_predict_function.<locals>.predict_function at 0x15653eca0> and will run it as-is.\n",
      "Please report this to the TensorFlow team. When filing the bug, set the verbosity to 10 (on Linux, `export AUTOGRAPH_VERBOSITY=10`) and attach the full output.\n",
      "Cause: closure mismatch, requested ('self', 'step_function'), but source function had ()\n",
      "To silence this warning, decorate the function with @tf.autograph.experimental.do_not_convert\n",
      "WARNING: AutoGraph could not transform <function Model.make_predict_function.<locals>.predict_function at 0x15653eca0> and will run it as-is.\n",
      "Please report this to the TensorFlow team. When filing the bug, set the verbosity to 10 (on Linux, `export AUTOGRAPH_VERBOSITY=10`) and attach the full output.\n",
      "Cause: closure mismatch, requested ('self', 'step_function'), but source function had ()\n",
      "To silence this warning, decorate the function with @tf.autograph.experimental.do_not_convert\n",
      "1/1 [==============================] - 0s 70ms/step\n"
     ]
    },
    {
     "name": "stderr",
     "output_type": "stream",
     "text": [
      "2022-12-30 14:53:02.818705: I tensorflow/core/grappler/optimizers/custom_graph_optimizer_registry.cc:114] Plugin optimizer for device_type GPU is enabled.\n"
     ]
    }
   ],
   "source": [
    "# Make predictions\n",
    "\n",
    "Xtest = np.linspace(-3, 3, 20).reshape(-1, 1)\n",
    "ptest = model.predict(Xtest)"
   ]
  },
  {
   "cell_type": "code",
   "execution_count": 58,
   "metadata": {},
   "outputs": [
    {
     "data": {
      "text/plain": [
       "[<matplotlib.lines.Line2D at 0x16d0e8a60>]"
      ]
     },
     "execution_count": 58,
     "metadata": {},
     "output_type": "execute_result"
    },
    {
     "data": {
      "image/png": "[encoded data removed]",
      "text/plain": [
       "<Figure size 640x480 with 1 Axes>"
      ]
     },
     "metadata": {},
     "output_type": "display_data"
    }
   ],
   "source": [
    "plt.scatter(X, y)\n",
    "plt.plot(Xtest, ptest)"
   ]
  },
  {
   "cell_type": "code",
   "execution_count": 60,
   "metadata": {},
   "outputs": [
    {
     "data": {
      "text/plain": [
       "[<keras.engine.input_layer.InputLayer at 0x16d005ca0>,\n",
       " <keras.layers.core.dense.Dense at 0x1696c3490>]"
      ]
     },
     "execution_count": 60,
     "metadata": {},
     "output_type": "execute_result"
    }
   ],
   "source": [
    "# Check parameters\n",
    "\n",
    "model.layers\n"
   ]
  },
  {
   "cell_type": "code",
   "execution_count": 61,
   "metadata": {},
   "outputs": [
    {
     "data": {
      "text/plain": [
       "[array([[0.47764543]], dtype=float32), array([0.14580058], dtype=float32)]"
      ]
     },
     "execution_count": 61,
     "metadata": {},
     "output_type": "execute_result"
    }
   ],
   "source": [
    "model.layers[1].get_weights()"
   ]
  },
  {
   "cell_type": "code",
   "execution_count": null,
   "metadata": {},
   "outputs": [],
   "source": []
  },
  {
   "cell_type": "code",
   "execution_count": null,
   "metadata": {},
   "outputs": [],
   "source": []
  }
 ],
 "metadata": {
  "kernelspec": {
   "display_name": "NLP",
   "language": "python",
   "name": "python3"
  },
  "language_info": {
   "codemirror_mode": {
    "name": "ipython",
    "version": 3
   },
   "file_extension": ".py",
   "mimetype": "text/x-python",
   "name": "python",
   "nbconvert_exporter": "python",
   "pygments_lexer": "ipython3",
   "version": "3.9.15"
  },
  "orig_nbformat": 4,
  "vscode": {
   "interpreter": {
    "hash": "47bab29d1182c25e62abc97ecc99100a5973ac009dbf399a8dc3a718426cff4c"
   }
  }
 },
 "nbformat": 4,
 "nbformat_minor": 2
}
